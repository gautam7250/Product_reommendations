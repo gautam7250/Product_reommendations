{
 "cells": [
  {
   "cell_type": "code",
   "execution_count": 1,
   "metadata": {},
   "outputs": [],
   "source": [
    "import numpy as np"
   ]
  },
  {
   "cell_type": "code",
   "execution_count": 2,
   "metadata": {},
   "outputs": [],
   "source": [
    "data = np.loadtxt(r'D:\\Educational(B.E.)\\Course\\Data_Mining\\Learning-Python-master\\affinity_dataset.txt')"
   ]
  },
  {
   "cell_type": "code",
   "execution_count": 3,
   "metadata": {},
   "outputs": [
    {
     "data": {
      "text/plain": [
       "array([[0., 0., 1., 1., 1.],\n",
       "       [1., 1., 0., 1., 0.],\n",
       "       [1., 0., 1., 1., 0.],\n",
       "       [0., 0., 1., 1., 1.],\n",
       "       [0., 1., 0., 0., 1.],\n",
       "       [0., 1., 0., 0., 0.],\n",
       "       [1., 0., 0., 0., 1.],\n",
       "       [1., 0., 0., 0., 1.],\n",
       "       [0., 0., 0., 1., 1.],\n",
       "       [0., 0., 1., 1., 1.],\n",
       "       [1., 1., 0., 0., 1.],\n",
       "       [0., 1., 0., 0., 0.],\n",
       "       [0., 0., 0., 0., 1.],\n",
       "       [0., 0., 1., 0., 1.],\n",
       "       [0., 1., 0., 0., 1.],\n",
       "       [0., 0., 1., 1., 1.],\n",
       "       [1., 0., 0., 0., 1.],\n",
       "       [0., 0., 1., 1., 1.],\n",
       "       [1., 1., 0., 0., 0.],\n",
       "       [0., 1., 0., 0., 0.],\n",
       "       [0., 0., 1., 0., 0.],\n",
       "       [0., 1., 0., 0., 1.],\n",
       "       [0., 1., 0., 0., 0.],\n",
       "       [0., 1., 0., 0., 1.],\n",
       "       [0., 0., 1., 1., 1.],\n",
       "       [0., 0., 1., 1., 0.],\n",
       "       [0., 0., 1., 0., 1.],\n",
       "       [0., 0., 0., 0., 1.],\n",
       "       [0., 1., 0., 0., 0.],\n",
       "       [0., 1., 0., 1., 0.],\n",
       "       [1., 1., 1., 0., 1.],\n",
       "       [1., 1., 0., 0., 1.],\n",
       "       [0., 0., 1., 1., 1.],\n",
       "       [0., 0., 1., 0., 1.],\n",
       "       [0., 0., 1., 1., 1.],\n",
       "       [0., 0., 1., 1., 0.],\n",
       "       [0., 1., 1., 0., 1.],\n",
       "       [0., 0., 1., 1., 0.],\n",
       "       [0., 1., 0., 0., 1.],\n",
       "       [0., 0., 0., 0., 1.],\n",
       "       [0., 0., 1., 0., 1.],\n",
       "       [1., 1., 0., 1., 1.],\n",
       "       [1., 0., 0., 0., 1.],\n",
       "       [0., 0., 1., 1., 1.],\n",
       "       [0., 1., 0., 0., 0.],\n",
       "       [0., 1., 0., 1., 1.],\n",
       "       [0., 1., 0., 0., 0.],\n",
       "       [0., 1., 0., 0., 0.],\n",
       "       [0., 0., 1., 1., 0.],\n",
       "       [0., 0., 1., 1., 1.],\n",
       "       [0., 1., 0., 1., 0.],\n",
       "       [0., 1., 1., 0., 0.],\n",
       "       [0., 0., 1., 1., 0.],\n",
       "       [0., 0., 1., 1., 1.],\n",
       "       [1., 0., 0., 0., 0.],\n",
       "       [0., 1., 0., 1., 0.],\n",
       "       [1., 0., 0., 0., 1.],\n",
       "       [0., 1., 0., 0., 0.],\n",
       "       [0., 0., 0., 0., 1.],\n",
       "       [0., 0., 1., 1., 1.],\n",
       "       [0., 1., 1., 1., 1.],\n",
       "       [1., 1., 0., 0., 0.],\n",
       "       [0., 0., 1., 0., 1.],\n",
       "       [1., 0., 0., 0., 1.],\n",
       "       [1., 1., 0., 0., 0.],\n",
       "       [0., 1., 1., 0., 0.],\n",
       "       [0., 0., 0., 0., 1.],\n",
       "       [0., 1., 0., 0., 0.],\n",
       "       [0., 0., 1., 1., 1.],\n",
       "       [0., 1., 0., 0., 1.],\n",
       "       [1., 0., 0., 0., 1.],\n",
       "       [1., 0., 0., 0., 1.],\n",
       "       [0., 1., 0., 0., 1.],\n",
       "       [0., 0., 1., 1., 1.],\n",
       "       [1., 0., 1., 0., 1.],\n",
       "       [1., 1., 0., 0., 1.],\n",
       "       [0., 1., 0., 0., 1.],\n",
       "       [1., 1., 1., 0., 1.],\n",
       "       [0., 0., 1., 1., 1.],\n",
       "       [1., 0., 0., 0., 0.],\n",
       "       [0., 0., 1., 1., 1.],\n",
       "       [1., 1., 0., 1., 0.],\n",
       "       [0., 0., 1., 0., 0.],\n",
       "       [0., 0., 1., 0., 1.],\n",
       "       [0., 1., 0., 0., 0.],\n",
       "       [1., 1., 0., 0., 0.],\n",
       "       [0., 0., 0., 1., 0.],\n",
       "       [0., 0., 0., 1., 1.],\n",
       "       [0., 1., 0., 0., 0.],\n",
       "       [0., 1., 0., 0., 0.],\n",
       "       [1., 1., 0., 0., 1.],\n",
       "       [0., 0., 1., 0., 0.],\n",
       "       [0., 1., 0., 0., 1.],\n",
       "       [1., 1., 0., 1., 0.],\n",
       "       [1., 0., 0., 0., 1.],\n",
       "       [0., 1., 0., 0., 0.],\n",
       "       [0., 0., 1., 1., 0.],\n",
       "       [0., 1., 1., 0., 0.],\n",
       "       [0., 0., 1., 1., 0.],\n",
       "       [0., 0., 0., 0., 1.]])"
      ]
     },
     "execution_count": 3,
     "metadata": {},
     "output_type": "execute_result"
    }
   ],
   "source": [
    "data"
   ]
  },
  {
   "cell_type": "code",
   "execution_count": 4,
   "metadata": {},
   "outputs": [],
   "source": [
    "n_samples, n_features = data.shape"
   ]
  },
  {
   "cell_type": "code",
   "execution_count": 5,
   "metadata": {},
   "outputs": [
    {
     "name": "stdout",
     "output_type": "stream",
     "text": [
      "[[0. 0. 1. 1. 1.]\n",
      " [1. 1. 0. 1. 0.]\n",
      " [1. 0. 1. 1. 0.]\n",
      " [0. 0. 1. 1. 1.]\n",
      " [0. 1. 0. 0. 1.]]\n"
     ]
    }
   ],
   "source": [
    "print(data[:5])"
   ]
  },
  {
   "cell_type": "code",
   "execution_count": 6,
   "metadata": {},
   "outputs": [],
   "source": [
    "# The names of the features, for your reference.\n",
    "features = [\"bread\", \"milk\", \"cheese\", \"apples\", \"bananas\"]"
   ]
  },
  {
   "cell_type": "markdown",
   "metadata": {},
   "source": []
  },
  {
   "cell_type": "code",
   "execution_count": 7,
   "metadata": {},
   "outputs": [
    {
     "name": "stdout",
     "output_type": "stream",
     "text": [
      "36 people bought Apples\n"
     ]
    }
   ],
   "source": [
    "# First , how many rows contain our premise: that a person is buying apples \n",
    "num_apples_purchases = 0\n",
    "for sample in data:\n",
    "    if sample[3] == 1: # This person bought Apples\n",
    "        num_apples_purchases += 1\n",
    "print(\"{0} people bought Apples\".format(num_apples_purchases))\n",
    "        "
   ]
  },
  {
   "cell_type": "code",
   "execution_count": 8,
   "metadata": {},
   "outputs": [
    {
     "name": "stdout",
     "output_type": "stream",
     "text": [
      "59 people bought Banana\n"
     ]
    }
   ],
   "source": [
    "# Simply if we want banana and index value is 4\n",
    "num_banana_purchases = 0\n",
    "for sample in data:\n",
    "    if sample in data:\n",
    "        if sample[4] == 1: # This person bought Banana\n",
    "            num_banana_purchases += 1\n",
    "print(\"{0} people bought Banana\".format(num_banana_purchases))\n",
    "        "
   ]
  },
  {
   "cell_type": "code",
   "execution_count": 9,
   "metadata": {},
   "outputs": [
    {
     "name": "stdout",
     "output_type": "stream",
     "text": [
      "21 cases of the being valid were discovered\n",
      "15 cases of thr being invalid were discovered\n"
     ]
    }
   ],
   "source": [
    "# How many of the cases that a person bought Apple involved the people purchasing banabas to?\n",
    "#Record both cases where thr ulr is valid and is invalid\n",
    "rule_valid = 0\n",
    "rule_invalid = 0\n",
    "\n",
    "for sample in data:\n",
    "    if sample[3] == 1: # Person bought Apples\n",
    "        if sample[4] == 1: # This person bought banana\n",
    "            rule_valid += 1\n",
    "        else:\n",
    "            rule_invalid += 1\n",
    "print(\"{0} cases of the being valid were discovered\".format(rule_valid))\n",
    "print(\"{0} cases of thr being invalid were discovered\". format(rule_invalid))\n",
    "        "
   ]
  },
  {
   "cell_type": "code",
   "execution_count": 10,
   "metadata": {},
   "outputs": [
    {
     "name": "stdout",
     "output_type": "stream",
     "text": [
      "The support is 21 and the confidance is 0.583\n",
      "As a percenatage , that is 58.3%\n"
     ]
    }
   ],
   "source": [
    "# Now we have all the information neede to compute support and confidance\n",
    "support = rule_valid# The support is the number of times the rule is discovered\n",
    "confidence = rule_valid/ num_apples_purchases\n",
    "print(\"The support is {0} and the confidance is {1:.3f}\".format(support, confidence))\n",
    "print(\"As a percenatage , that is {0:.1f}%\".format(100*confidence))"
   ]
  },
  {
   "cell_type": "code",
   "execution_count": 11,
   "metadata": {},
   "outputs": [],
   "source": [
    "from collections import defaultdict"
   ]
  },
  {
   "cell_type": "code",
   "execution_count": 14,
   "metadata": {},
   "outputs": [],
   "source": [
    "valid_rules = defaultdict(int)\n",
    "invalid_rules = defaultdict(int)\n",
    "num_occurences = defaultdict(int)"
   ]
  },
  {
   "cell_type": "code",
   "execution_count": 15,
   "metadata": {},
   "outputs": [],
   "source": [
    "for sample in data:\n",
    "    for premise in range(n_features):\n",
    "        if sample[premise] == 0: continue\n",
    "        # Record that the premise was bought in another transaction\n",
    "        num_occurences[premise] += 1\n",
    "        for conclusion in range(n_features):\n",
    "            if premise == conclusion:  # It makes little sense to measure if X -> X.\n",
    "                continue\n",
    "            if sample[conclusion] == 1:\n",
    "                # This person also bought the conclusion item\n",
    "                valid_rules[(premise, conclusion)] += 1\n",
    "            else:\n",
    "                # This person bought the premise, but not the conclusion\n",
    "                invalid_rules[(premise, conclusion)] += 1\n",
    "support = valid_rules\n",
    "confidence = defaultdict(float)\n",
    "for premise, conclusion in valid_rules.keys():\n",
    "    confidence[(premise, conclusion)] = valid_rules[(premise, conclusion)] / num_occurences[premise]"
   ]
  },
  {
   "cell_type": "code",
   "execution_count": 16,
   "metadata": {},
   "outputs": [
    {
     "name": "stdout",
     "output_type": "stream",
     "text": [
      "Rule: If a person buys cheese they will also buy apples\n",
      " - Confidence: 60.976 %\n",
      " - Support: 25\n",
      "\n",
      "Rule: If a person buys cheese they will also buy bananas\n",
      " - Confidence: 65.854 %\n",
      " - Support: 27\n",
      "\n",
      "Rule: If a person buys apples they will also buy cheese\n",
      " - Confidence: 69.444 %\n",
      " - Support: 25\n",
      "\n",
      "Rule: If a person buys apples they will also buy bananas\n",
      " - Confidence: 58.333 %\n",
      " - Support: 21\n",
      "\n",
      "Rule: If a person buys bananas they will also buy cheese\n",
      " - Confidence: 45.763 %\n",
      " - Support: 27\n",
      "\n",
      "Rule: If a person buys bananas they will also buy apples\n",
      " - Confidence: 35.593 %\n",
      " - Support: 21\n",
      "\n",
      "Rule: If a person buys bread they will also buy milk\n",
      " - Confidence: 51.852 %\n",
      " - Support: 14\n",
      "\n",
      "Rule: If a person buys bread they will also buy apples\n",
      " - Confidence: 18.519 %\n",
      " - Support: 5\n",
      "\n",
      "Rule: If a person buys milk they will also buy bread\n",
      " - Confidence: 30.435 %\n",
      " - Support: 14\n",
      "\n",
      "Rule: If a person buys milk they will also buy apples\n",
      " - Confidence: 19.565 %\n",
      " - Support: 9\n",
      "\n",
      "Rule: If a person buys apples they will also buy bread\n",
      " - Confidence: 13.889 %\n",
      " - Support: 5\n",
      "\n",
      "Rule: If a person buys apples they will also buy milk\n",
      " - Confidence: 25.000 %\n",
      " - Support: 9\n",
      "\n",
      "Rule: If a person buys bread they will also buy cheese\n",
      " - Confidence: 14.815 %\n",
      " - Support: 4\n",
      "\n",
      "Rule: If a person buys cheese they will also buy bread\n",
      " - Confidence: 9.756 %\n",
      " - Support: 4\n",
      "\n",
      "Rule: If a person buys milk they will also buy bananas\n",
      " - Confidence: 41.304 %\n",
      " - Support: 19\n",
      "\n",
      "Rule: If a person buys bananas they will also buy milk\n",
      " - Confidence: 32.203 %\n",
      " - Support: 19\n",
      "\n",
      "Rule: If a person buys bread they will also buy bananas\n",
      " - Confidence: 62.963 %\n",
      " - Support: 17\n",
      "\n",
      "Rule: If a person buys bananas they will also buy bread\n",
      " - Confidence: 28.814 %\n",
      " - Support: 17\n",
      "\n",
      "Rule: If a person buys milk they will also buy cheese\n",
      " - Confidence: 15.217 %\n",
      " - Support: 7\n",
      "\n",
      "Rule: If a person buys cheese they will also buy milk\n",
      " - Confidence: 17.073 %\n",
      " - Support: 7\n",
      "\n"
     ]
    }
   ],
   "source": [
    "for premise, conclusion in confidence:\n",
    "    premise_name = features[premise]\n",
    "    conclusion_name = features[conclusion]\n",
    "    print(\"Rule: If a person buys {0} they will also buy {1}\".format(premise_name, conclusion_name))\n",
    "    print(\" - Confidence: {0:.3f} %\".format(100*confidence[(premise, conclusion)]))\n",
    "    print(\" - Support: {0}\".format(support[(premise, conclusion)]))\n",
    "    print(\"\")"
   ]
  },
  {
   "cell_type": "markdown",
   "metadata": {},
   "source": [
    "**Now we have a dictionary that support and confidance ofr each rule** "
   ]
  },
  {
   "cell_type": "code",
   "execution_count": 25,
   "metadata": {},
   "outputs": [],
   "source": [
    "def print_rule(premise, conclusion,support, confidence, features):\n",
    "    premise_name = features[premise]\n",
    "    conclusion_name = features[conclusion]\n",
    "    print(\"Rule: If a person buy {0} they will also buy {1} \".format(premise_name, conclusion_name))\n",
    "    print(\"- Support: {0} \".format(support[(premise, conclusion)]))\n",
    "    print(\"- Confidance: {0:.3f} %\".format(100* confidence[(premise, conclusion)]))"
   ]
  },
  {
   "cell_type": "code",
   "execution_count": 26,
   "metadata": {},
   "outputs": [
    {
     "name": "stdout",
     "output_type": "stream",
     "text": [
      "Rule: If a person buy milk they will also buy apples \n",
      "- Support: 9 \n",
      "- Confidance: 19.565 %\n"
     ]
    }
   ],
   "source": [
    "premise = 1\n",
    "conclusion = 3\n",
    "print_rule(premise, conclusion, support, confidence , features)"
   ]
  },
  {
   "cell_type": "code",
   "execution_count": 31,
   "metadata": {},
   "outputs": [
    {
     "name": "stdout",
     "output_type": "stream",
     "text": [
      "Rule: If a person buy cheese they will also buy apples \n",
      "- Support: 25 \n",
      "- Confidance: 60.976 %\n"
     ]
    }
   ],
   "source": [
    "premise = 2\n",
    "conclusion =3\n",
    "print_rule(premise, conclusion, support, confidence, features)"
   ]
  },
  {
   "cell_type": "code",
   "execution_count": 32,
   "metadata": {},
   "outputs": [
    {
     "name": "stdout",
     "output_type": "stream",
     "text": [
      "Rule: If a person buy apples they will also buy cheese \n",
      "- Support: 25 \n",
      "- Confidance: 69.444 %\n"
     ]
    }
   ],
   "source": [
    "premise = 3\n",
    "conclusion =2\n",
    "print_rule(premise, conclusion, support, confidence, features)"
   ]
  },
  {
   "cell_type": "code",
   "execution_count": 34,
   "metadata": {},
   "outputs": [
    {
     "name": "stdout",
     "output_type": "stream",
     "text": [
      "Rule: If a person buy bananas they will also buy milk \n",
      "- Support: 19 \n",
      "- Confidance: 32.203 %\n"
     ]
    }
   ],
   "source": [
    "premise = 4\n",
    "conclusion =1\n",
    "print_rule(premise, conclusion, support, confidence, features)"
   ]
  },
  {
   "cell_type": "code",
   "execution_count": 35,
   "metadata": {},
   "outputs": [
    {
     "name": "stdout",
     "output_type": "stream",
     "text": [
      "Rule: If a person buy cheese they will also buy bread \n",
      "- Support: 4 \n",
      "- Confidance: 9.756 %\n"
     ]
    }
   ],
   "source": [
    "premise = 2\n",
    "conclusion =0\n",
    "print_rule(premise, conclusion, support, confidence, features)"
   ]
  },
  {
   "cell_type": "markdown",
   "metadata": {},
   "source": [
    "# Ranking to find the best rules"
   ]
  },
  {
   "cell_type": "code",
   "execution_count": 36,
   "metadata": {},
   "outputs": [],
   "source": [
    "from operator import itemgetter"
   ]
  },
  {
   "cell_type": "code",
   "execution_count": 38,
   "metadata": {},
   "outputs": [],
   "source": [
    "sorted_support = sorted(support.items(), key=itemgetter(1), reverse=True)"
   ]
  },
  {
   "cell_type": "code",
   "execution_count": 44,
   "metadata": {},
   "outputs": [
    {
     "name": "stdout",
     "output_type": "stream",
     "text": [
      "Rule #1\n",
      "Rule: If a person buy cheese they will also buy bananas \n",
      "- Support: 27 \n",
      "- Confidance: 65.854 %\n",
      "\n",
      "Rule #2\n",
      "Rule: If a person buy bananas they will also buy cheese \n",
      "- Support: 27 \n",
      "- Confidance: 45.763 %\n",
      "\n",
      "Rule #3\n",
      "Rule: If a person buy cheese they will also buy apples \n",
      "- Support: 25 \n",
      "- Confidance: 60.976 %\n",
      "\n",
      "Rule #4\n",
      "Rule: If a person buy apples they will also buy cheese \n",
      "- Support: 25 \n",
      "- Confidance: 69.444 %\n",
      "\n",
      "Rule #5\n",
      "Rule: If a person buy apples they will also buy bananas \n",
      "- Support: 21 \n",
      "- Confidance: 58.333 %\n",
      "\n"
     ]
    }
   ],
   "source": [
    "for index in range(5):\n",
    "    print(\"Rule #{0}\".format(index + 1))\n",
    "    \n",
    "    premise, conclusion = sorted_support[index][0]\n",
    "    print_rule(premise, conclusion, support, confidence, features)\n",
    "    print(\"\")"
   ]
  },
  {
   "cell_type": "code",
   "execution_count": 49,
   "metadata": {},
   "outputs": [],
   "source": [
    "sorted_confidence = sorted(confidence.items(), key=itemgetter(1), reverse=True)"
   ]
  },
  {
   "cell_type": "code",
   "execution_count": 51,
   "metadata": {},
   "outputs": [
    {
     "name": "stdout",
     "output_type": "stream",
     "text": [
      "Rule %{0} 1\n",
      "Rule: If a person buy apples they will also buy cheese \n",
      "- Support: 25 \n",
      "- Confidance: 69.444 %\n",
      "\n",
      "Rule %{0} 2\n",
      "Rule: If a person buy cheese they will also buy bananas \n",
      "- Support: 27 \n",
      "- Confidance: 65.854 %\n",
      "\n",
      "Rule %{0} 3\n",
      "Rule: If a person buy bread they will also buy bananas \n",
      "- Support: 17 \n",
      "- Confidance: 62.963 %\n",
      "\n",
      "Rule %{0} 4\n",
      "Rule: If a person buy cheese they will also buy apples \n",
      "- Support: 25 \n",
      "- Confidance: 60.976 %\n",
      "\n",
      "Rule %{0} 5\n",
      "Rule: If a person buy apples they will also buy bananas \n",
      "- Support: 21 \n",
      "- Confidance: 58.333 %\n",
      "\n"
     ]
    }
   ],
   "source": [
    "for index in range(5):\n",
    "    print(\"Rule %{0}\",format(index + 1))\n",
    "    premise, conclusion = sorted_confidence[index][0]\n",
    "    print_rule(premise, conclusion, support, confidence, features)\n",
    "    print(\"\")"
   ]
  },
  {
   "cell_type": "code",
   "execution_count": null,
   "metadata": {},
   "outputs": [],
   "source": []
  }
 ],
 "metadata": {
  "kernelspec": {
   "display_name": "Python 3",
   "language": "python",
   "name": "python3"
  },
  "language_info": {
   "codemirror_mode": {
    "name": "ipython",
    "version": 3
   },
   "file_extension": ".py",
   "mimetype": "text/x-python",
   "name": "python",
   "nbconvert_exporter": "python",
   "pygments_lexer": "ipython3",
   "version": "3.7.6"
  }
 },
 "nbformat": 4,
 "nbformat_minor": 4
}
